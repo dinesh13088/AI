{
 "cells": [
  {
   "cell_type": "code",
   "execution_count": 1,
   "id": "0026c179-7836-468c-a352-5e9c62c771fc",
   "metadata": {},
   "outputs": [
    {
     "name": "stdout",
     "output_type": "stream",
     "text": [
      "----- A star search -----\n"
     ]
    },
    {
     "name": "stdin",
     "output_type": "stream",
     "text": [
      "Enter the start node:  x\n",
      "Enter the goal node:  t\n"
     ]
    },
    {
     "name": "stdout",
     "output_type": "stream",
     "text": [
      "Path found: ['x', 'y', 'p', 'r', 't']\n"
     ]
    },
    {
     "data": {
      "text/plain": [
       "['x', 'y', 'p', 'r', 't']"
      ]
     },
     "execution_count": 1,
     "metadata": {},
     "output_type": "execute_result"
    }
   ],
   "source": [
    "adj_list = {\n",
    "    'x': [('y', 4), ('z', 7)],\n",
    "    'y': [('p', 1), ('q', 3)],\n",
    "    'z': [('q', 2), ('r', 4)],\n",
    "    'p': [('r', 5)],\n",
    "    'q': [('r', 6), ('t', 2)],\n",
    "    'r': [('t', 1)],\n",
    "    't': []\n",
    "}\n",
    "# Defining heuristic values for each node\n",
    "heuristic = {\n",
    "    'x': 7,\n",
    "    'y': 4,\n",
    "    'z': 5,\n",
    "    'p': 3,\n",
    "    'q': 6,\n",
    "    'r': 2,\n",
    "    't': 0\n",
    "}\n",
    "# A Star Search Algorithm\n",
    "def astar_search(adj_list, heuristic, start_node, goal_node):\n",
    "    open_list = set([start_node])\n",
    "    closed_list = set([])\n",
    "    g = {}\n",
    "    g[start_node] = 0\n",
    "    parents = {}\n",
    "    parents[start_node] = start_node\n",
    "\n",
    "    def get_neighbors(node):\n",
    "        return adj_list[node]\n",
    "\n",
    "    def h(node):\n",
    "        return heuristic[node]\n",
    "\n",
    "    while len(open_list) > 0:\n",
    "        n = None\n",
    "        for v in open_list:\n",
    "            if n == None or g[v] + h(v) < g[n] + h(n):\n",
    "                n = v\n",
    "\n",
    "        if n == None:\n",
    "            print('Path does not exist!')\n",
    "            return None\n",
    "\n",
    "        if n == goal_node:\n",
    "            reconst_path = []\n",
    "            while parents[n] != n:\n",
    "                reconst_path.append(n)\n",
    "                n = parents[n]\n",
    "            reconst_path.append(start_node)\n",
    "            reconst_path.reverse()\n",
    "            print('Path found: {}'.format(reconst_path))\n",
    "            return reconst_path\n",
    "\n",
    "        for (m, weight) in get_neighbors(n):\n",
    "            if m not in open_list and m not in closed_list:\n",
    "                open_list.add(m)\n",
    "                parents[m] = n\n",
    "                g[m] = g[n] + weight\n",
    "            else:\n",
    "                if g[m] > g[n] + weight:\n",
    "                    g[m] = g[n] + weight\n",
    "                    parents[m] = n\n",
    "                if m in closed_list:\n",
    "                    closed_list.remove(m)\n",
    "                    open_list.add(m)\n",
    "\n",
    "        open_list.remove(n)\n",
    "        closed_list.add(n)\n",
    "\n",
    "    print('Path does not exist!')\n",
    "    return None\n",
    "\n",
    "print(\"----- A star search -----\")\n",
    "start_node = input(\"Enter the start node: \")\n",
    "goal_node = input(\"Enter the goal node: \")\n",
    "astar_search(adj_list, heuristic, start_node, goal_node)\n"
   ]
  },
  {
   "cell_type": "code",
   "execution_count": null,
   "id": "007fd588-d2e3-45a1-ac33-3f9bdb31c29d",
   "metadata": {},
   "outputs": [],
   "source": []
  }
 ],
 "metadata": {
  "kernelspec": {
   "display_name": "Python 3 (ipykernel)",
   "language": "python",
   "name": "python3"
  },
  "language_info": {
   "codemirror_mode": {
    "name": "ipython",
    "version": 3
   },
   "file_extension": ".py",
   "mimetype": "text/x-python",
   "name": "python",
   "nbconvert_exporter": "python",
   "pygments_lexer": "ipython3",
   "version": "3.11.7"
  }
 },
 "nbformat": 4,
 "nbformat_minor": 5
}
