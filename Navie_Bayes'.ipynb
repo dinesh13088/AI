{
 "cells": [
  {
   "cell_type": "markdown",
   "id": "f279c885-0806-4544-92a1-36ec6b5798b3",
   "metadata": {},
   "source": [
    "<h2>Algorithm</h2>"
   ]
  },
  {
   "cell_type": "code",
   "execution_count": 2,
   "id": "a11dd792-2680-422c-a7fc-84b2e0d97fef",
   "metadata": {},
   "outputs": [],
   "source": [
    "import numpy as np\n",
    "import pandas as pd"
   ]
  },
  {
   "cell_type": "code",
   "execution_count": 7,
   "id": "786dfea2-584e-4d95-982f-ccb67ab84d59",
   "metadata": {},
   "outputs": [],
   "source": [
    "class  NaiveBayes:\n",
    "\n",
    "    def __init__(self):\n",
    "\n",
    "        \"\"\"\n",
    "        Attributes:\n",
    "        \n",
    "        likelihoods: Likelihood of each feature per class\n",
    "        class_priors: Prior probabilities of classes\n",
    "        pred_priors: Prior probabilities of features\n",
    "        features: All features of dataset\n",
    "        \"\"\"\n",
    "        self.features = list\n",
    "        self.likelihoods = {}\n",
    "        self.class_priors = {}\n",
    "        self.pred_priors = {}\n",
    "\n",
    "        self.X_train = np.array\n",
    "        self.y_train = np.array\n",
    "        self.train_size = int\n",
    "        self.num_feats = int\n",
    "\n",
    "    def fit(self, X, y):\n",
    "\n",
    "        self.features = list(X.columns)\n",
    "        self.X_train = X\n",
    "        self.y_train = y\n",
    "        self.train_size = X.shape[0]\n",
    "        self.num_feats = X.shape[1]\n",
    "\n",
    "        for feature in self.features:\n",
    "            self.likelihoods[feature] = {}\n",
    "            self.pred_priors[feature] = {}\n",
    "\n",
    "            for feat_val in np.unique(self.X_train[feature]):\n",
    "                self.pred_priors[feature].update({feat_val: 0})\n",
    "\n",
    "                for outcome in np.unique(self.y_train):\n",
    "                    self.likelihoods[feature].update({feat_val+'_'+outcome:0})\n",
    "                    self.class_priors.update({outcome: 0})\n",
    "\n",
    "        self._calc_class_prior()\n",
    "        self._calc_likelihoods()\n",
    "        self._calc_predictor_prior()\n",
    "\n",
    "    def _calc_class_prior(self):\n",
    "\n",
    "        \"\"\" P(c) - Prior Class Probability \"\"\"\n",
    "\n",
    "        for outcome in np.unique(self.y_train):\n",
    "            outcome_count = sum(self.y_train == outcome)\n",
    "            self.class_priors[outcome] = outcome_count / self.train_size\n",
    "\n",
    "    def _calc_likelihoods(self):\n",
    "\n",
    "        \"\"\" P(x|c) - Likelihood \"\"\"\n",
    "\n",
    "        for feature in self.features:\n",
    "\n",
    "            for outcome in np.unique(self.y_train):\n",
    "                outcome_count = sum(self.y_train == outcome)\n",
    "                feat_likelihood = self.X_train[feature][self.y_train[self.y_train == outcome].index.values.tolist()].value_counts().to_dict()\n",
    "\n",
    "                for feat_val, count in feat_likelihood.items():\n",
    "                    self.likelihoods[feature][feat_val + '_' + outcome] = count/outcome_count\n",
    "\n",
    "\n",
    "    def _calc_predictor_prior(self):\n",
    "\n",
    "        \"\"\" P(x) - Evidence \"\"\"\n",
    "\n",
    "        for feature in self.features:\n",
    "            feat_vals = self.X_train[feature].value_counts().to_dict()\n",
    "\n",
    "            for feat_val, count in feat_vals.items():\n",
    "                self.pred_priors[feature][feat_val] = count/self.train_size\n",
    "\n",
    "\n",
    "    def predict(self, X):\n",
    "\n",
    "        \"\"\" Calculates Posterior probability P(c|x) \"\"\"\n",
    "\n",
    "        results = []\n",
    "        X = np.array(X)\n",
    "\n",
    "        for query in X:\n",
    "            probs_outcome = {}\n",
    "            for outcome in np.unique(self.y_train):\n",
    "                        prior = self.class_priors[outcome]\n",
    "                        likelihood = 1\n",
    "                        evidence = 1\n",
    "\n",
    "                        for feat, feat_val in zip(self.features, query):\n",
    "                            likelihood *= self.likelihoods[feat][feat_val + '_' + outcome]\n",
    "                            evidence *= self.pred_priors[feat][feat_val]\n",
    "\n",
    "                        # posterior = (likelihood * prior) / (evidence)\n",
    "                        posterior = (likelihood * prior)\n",
    "\n",
    "                        probs_outcome[outcome] = posterior\n",
    "\n",
    "            result = max(probs_outcome, key = lambda x: probs_outcome[x])\n",
    "            print(probs_outcome)\n",
    "            results.append(result)\n",
    "\n",
    "        return np.array(results)"
   ]
  },
  {
   "cell_type": "code",
   "execution_count": 9,
   "id": "177bc746-86da-47b2-852f-f0414bbe9a42",
   "metadata": {},
   "outputs": [],
   "source": [
    "def accuracy_score(y_true, y_pred):\n",
    "\n",
    "    \"\"\"\tscore = (y_true - y_pred) / len(y_true) \"\"\"\n",
    "\n",
    "    return round(float(sum(y_pred == y_true))/float(len(y_true)) * 100 ,2)"
   ]
  },
  {
   "cell_type": "markdown",
   "id": "1cca1fac-04cc-42a7-b046-68210e118f61",
   "metadata": {},
   "source": [
    "<h2>example 1<h2>"
   ]
  },
  {
   "cell_type": "code",
   "execution_count": 11,
   "id": "02b8ea5b-5f10-49bc-b019-e53a6d966488",
   "metadata": {},
   "outputs": [],
   "source": [
    "data = {\n",
    "    \"Color\": [\"White\", \"Green\", \"Green\", \"White\", \"Green\", \"White\", \"White\", \"White\"],\n",
    "    \"Legs\": [3, 2, 3, 3, 2, 2, 2, 2],\n",
    "    \"Height\": [\"Short\", \"Tall\", \"Short\", \"Short\", \"Short\", \"Tall\", \"Tall\", \"Short\"],\n",
    "    \"Smelly\": [\"Yes\", \"No\", \"Yes\", \"Yes\", \"No\", \"No\", \"No\", \"Yes\"],\n",
    "    \"Species\": [\"M\", \"M\", \"M\", \"M\", \"H\", \"H\", \"H\", \"H\"]\n",
    "}"
   ]
  },
  {
   "cell_type": "code",
   "execution_count": 13,
   "id": "28e97e9b-92b4-4a01-8ea4-3c388266a616",
   "metadata": {},
   "outputs": [
    {
     "data": {
      "text/html": [
       "<div>\n",
       "<style scoped>\n",
       "    .dataframe tbody tr th:only-of-type {\n",
       "        vertical-align: middle;\n",
       "    }\n",
       "\n",
       "    .dataframe tbody tr th {\n",
       "        vertical-align: top;\n",
       "    }\n",
       "\n",
       "    .dataframe thead th {\n",
       "        text-align: right;\n",
       "    }\n",
       "</style>\n",
       "<table border=\"1\" class=\"dataframe\">\n",
       "  <thead>\n",
       "    <tr style=\"text-align: right;\">\n",
       "      <th></th>\n",
       "      <th>Color</th>\n",
       "      <th>Legs</th>\n",
       "      <th>Height</th>\n",
       "      <th>Smelly</th>\n",
       "      <th>Species</th>\n",
       "    </tr>\n",
       "  </thead>\n",
       "  <tbody>\n",
       "    <tr>\n",
       "      <th>0</th>\n",
       "      <td>White</td>\n",
       "      <td>3</td>\n",
       "      <td>Short</td>\n",
       "      <td>Yes</td>\n",
       "      <td>M</td>\n",
       "    </tr>\n",
       "    <tr>\n",
       "      <th>1</th>\n",
       "      <td>Green</td>\n",
       "      <td>2</td>\n",
       "      <td>Tall</td>\n",
       "      <td>No</td>\n",
       "      <td>M</td>\n",
       "    </tr>\n",
       "    <tr>\n",
       "      <th>2</th>\n",
       "      <td>Green</td>\n",
       "      <td>3</td>\n",
       "      <td>Short</td>\n",
       "      <td>Yes</td>\n",
       "      <td>M</td>\n",
       "    </tr>\n",
       "    <tr>\n",
       "      <th>3</th>\n",
       "      <td>White</td>\n",
       "      <td>3</td>\n",
       "      <td>Short</td>\n",
       "      <td>Yes</td>\n",
       "      <td>M</td>\n",
       "    </tr>\n",
       "    <tr>\n",
       "      <th>4</th>\n",
       "      <td>Green</td>\n",
       "      <td>2</td>\n",
       "      <td>Short</td>\n",
       "      <td>No</td>\n",
       "      <td>H</td>\n",
       "    </tr>\n",
       "    <tr>\n",
       "      <th>5</th>\n",
       "      <td>White</td>\n",
       "      <td>2</td>\n",
       "      <td>Tall</td>\n",
       "      <td>No</td>\n",
       "      <td>H</td>\n",
       "    </tr>\n",
       "    <tr>\n",
       "      <th>6</th>\n",
       "      <td>White</td>\n",
       "      <td>2</td>\n",
       "      <td>Tall</td>\n",
       "      <td>No</td>\n",
       "      <td>H</td>\n",
       "    </tr>\n",
       "    <tr>\n",
       "      <th>7</th>\n",
       "      <td>White</td>\n",
       "      <td>2</td>\n",
       "      <td>Short</td>\n",
       "      <td>Yes</td>\n",
       "      <td>H</td>\n",
       "    </tr>\n",
       "  </tbody>\n",
       "</table>\n",
       "</div>"
      ],
      "text/plain": [
       "   Color  Legs Height Smelly Species\n",
       "0  White     3  Short    Yes       M\n",
       "1  Green     2   Tall     No       M\n",
       "2  Green     3  Short    Yes       M\n",
       "3  White     3  Short    Yes       M\n",
       "4  Green     2  Short     No       H\n",
       "5  White     2   Tall     No       H\n",
       "6  White     2   Tall     No       H\n",
       "7  White     2  Short    Yes       H"
      ]
     },
     "execution_count": 13,
     "metadata": {},
     "output_type": "execute_result"
    }
   ],
   "source": [
    "df = pd.DataFrame(data)\n",
    "df"
   ]
  },
  {
   "cell_type": "code",
   "execution_count": 15,
   "id": "b32a7bd2-8c36-4f7e-ae75-bf88fea62181",
   "metadata": {},
   "outputs": [],
   "source": [
    "df['Legs'] = df['Legs'].astype('str')"
   ]
  },
  {
   "cell_type": "code",
   "execution_count": 17,
   "id": "ae7ff32e-be6d-46cd-bdad-e6096c4ad610",
   "metadata": {},
   "outputs": [],
   "source": [
    "X = df.drop(['Species'], axis = 1)\n",
    "y = df['Species']"
   ]
  },
  {
   "cell_type": "code",
   "execution_count": 19,
   "id": "a46fb4ac-ffe2-4d24-a1a3-cabc8000dafa",
   "metadata": {},
   "outputs": [
    {
     "name": "stdout",
     "output_type": "stream",
     "text": [
      "{'H': 0.0, 'M': 0.10546875}\n",
      "{'H': 0.046875, 'M': 0.00390625}\n",
      "{'H': 0.0, 'M': 0.10546875}\n",
      "{'H': 0.0, 'M': 0.10546875}\n",
      "{'H': 0.046875, 'M': 0.01171875}\n",
      "{'H': 0.140625, 'M': 0.00390625}\n",
      "{'H': 0.140625, 'M': 0.00390625}\n",
      "{'H': 0.046875, 'M': 0.03515625}\n",
      "Train Accuracy: 87.5\n"
     ]
    }
   ],
   "source": [
    "nb_clf = NaiveBayes()\n",
    "nb_clf.fit(X, y)\n",
    "\n",
    "print(\"Train Accuracy: {}\".format(accuracy_score(y, nb_clf.predict(X))))"
   ]
  },
  {
   "cell_type": "code",
   "execution_count": 21,
   "id": "502496df-94da-48d1-9042-81e6b94b2b17",
   "metadata": {},
   "outputs": [
    {
     "name": "stdout",
     "output_type": "stream",
     "text": [
      "{'H': 0.015625, 'M': 0.03515625}\n",
      "prediction 1:- [['Green' '2' 'Short' 'Yes']] ---> ['M']\n",
      "\n",
      "\n",
      "{'H': 0.046875, 'M': 0.03515625}\n",
      "prediction 2:- [['White' '2' 'Short' 'Yes']] ---> ['H']\n"
     ]
    }
   ],
   "source": [
    "query1 = np.array([['Green','2','Short','Yes']])\n",
    "print(\"prediction 1:- {} ---> {}\".format(query1, nb_clf.predict(query1)))\n",
    "print(\"\\n\")\n",
    "query2 = np.array([['White','2','Short','Yes']])\n",
    "print(\"prediction 2:- {} ---> {}\".format(query2, nb_clf.predict(query2)))"
   ]
  },
  {
   "cell_type": "code",
   "execution_count": 23,
   "id": "71676f54-d14c-47f0-b0c8-a7ed3de2a522",
   "metadata": {},
   "outputs": [
    {
     "data": {
      "text/plain": [
       "{'Color': {'Green': 0.375, 'White': 0.625},\n",
       " 'Legs': {'2': 0.625, '3': 0.375},\n",
       " 'Height': {'Short': 0.625, 'Tall': 0.375},\n",
       " 'Smelly': {'No': 0.5, 'Yes': 0.5}}"
      ]
     },
     "execution_count": 23,
     "metadata": {},
     "output_type": "execute_result"
    }
   ],
   "source": [
    "nb_clf.pred_priors"
   ]
  },
  {
   "cell_type": "markdown",
   "id": "2a0ee33d-f15c-48ac-bd67-f01b3f565683",
   "metadata": {},
   "source": [
    "<h2>Example 2</h2>"
   ]
  },
  {
   "cell_type": "code",
   "execution_count": 26,
   "id": "edadf2b0-3411-423a-88c3-e0b78a6c1946",
   "metadata": {},
   "outputs": [
    {
     "data": {
      "text/html": [
       "<div>\n",
       "<style scoped>\n",
       "    .dataframe tbody tr th:only-of-type {\n",
       "        vertical-align: middle;\n",
       "    }\n",
       "\n",
       "    .dataframe tbody tr th {\n",
       "        vertical-align: top;\n",
       "    }\n",
       "\n",
       "    .dataframe thead th {\n",
       "        text-align: right;\n",
       "    }\n",
       "</style>\n",
       "<table border=\"1\" class=\"dataframe\">\n",
       "  <thead>\n",
       "    <tr style=\"text-align: right;\">\n",
       "      <th></th>\n",
       "      <th>Color</th>\n",
       "      <th>Type</th>\n",
       "      <th>Origin</th>\n",
       "      <th>Stolen</th>\n",
       "    </tr>\n",
       "  </thead>\n",
       "  <tbody>\n",
       "    <tr>\n",
       "      <th>0</th>\n",
       "      <td>Red</td>\n",
       "      <td>Sports</td>\n",
       "      <td>Domestic</td>\n",
       "      <td>Yes</td>\n",
       "    </tr>\n",
       "    <tr>\n",
       "      <th>1</th>\n",
       "      <td>Red</td>\n",
       "      <td>Sports</td>\n",
       "      <td>Domestic</td>\n",
       "      <td>No</td>\n",
       "    </tr>\n",
       "    <tr>\n",
       "      <th>2</th>\n",
       "      <td>Red</td>\n",
       "      <td>Sports</td>\n",
       "      <td>Domestic</td>\n",
       "      <td>Yes</td>\n",
       "    </tr>\n",
       "    <tr>\n",
       "      <th>3</th>\n",
       "      <td>Yellow</td>\n",
       "      <td>Sports</td>\n",
       "      <td>Domestic</td>\n",
       "      <td>No</td>\n",
       "    </tr>\n",
       "    <tr>\n",
       "      <th>4</th>\n",
       "      <td>Yellow</td>\n",
       "      <td>Sports</td>\n",
       "      <td>Imported</td>\n",
       "      <td>Yes</td>\n",
       "    </tr>\n",
       "    <tr>\n",
       "      <th>5</th>\n",
       "      <td>Yellow</td>\n",
       "      <td>SUV</td>\n",
       "      <td>Imported</td>\n",
       "      <td>No</td>\n",
       "    </tr>\n",
       "    <tr>\n",
       "      <th>6</th>\n",
       "      <td>Yellow</td>\n",
       "      <td>SUV</td>\n",
       "      <td>Imported</td>\n",
       "      <td>Yes</td>\n",
       "    </tr>\n",
       "    <tr>\n",
       "      <th>7</th>\n",
       "      <td>Yellow</td>\n",
       "      <td>SUV</td>\n",
       "      <td>Domestic</td>\n",
       "      <td>No</td>\n",
       "    </tr>\n",
       "    <tr>\n",
       "      <th>8</th>\n",
       "      <td>Red</td>\n",
       "      <td>SUV</td>\n",
       "      <td>Imported</td>\n",
       "      <td>No</td>\n",
       "    </tr>\n",
       "    <tr>\n",
       "      <th>9</th>\n",
       "      <td>Red</td>\n",
       "      <td>Sports</td>\n",
       "      <td>Imported</td>\n",
       "      <td>Yes</td>\n",
       "    </tr>\n",
       "  </tbody>\n",
       "</table>\n",
       "</div>"
      ],
      "text/plain": [
       "    Color    Type    Origin Stolen\n",
       "0     Red  Sports  Domestic    Yes\n",
       "1     Red  Sports  Domestic     No\n",
       "2     Red  Sports  Domestic    Yes\n",
       "3  Yellow  Sports  Domestic     No\n",
       "4  Yellow  Sports  Imported    Yes\n",
       "5  Yellow     SUV  Imported     No\n",
       "6  Yellow     SUV  Imported    Yes\n",
       "7  Yellow     SUV  Domestic     No\n",
       "8     Red     SUV  Imported     No\n",
       "9     Red  Sports  Imported    Yes"
      ]
     },
     "execution_count": 26,
     "metadata": {},
     "output_type": "execute_result"
    }
   ],
   "source": [
    "data = {\n",
    "    \"Color\": [\"Red\", \"Red\", \"Red\", \"Yellow\", \"Yellow\", \"Yellow\", \"Yellow\", \"Yellow\", \"Red\", \"Red\"],\n",
    "    \"Type\": [\"Sports\", \"Sports\", \"Sports\", \"Sports\", \"Sports\", \"SUV\", \"SUV\", \"SUV\", \"SUV\", \"Sports\"],\n",
    "    \"Origin\": [\"Domestic\", \"Domestic\", \"Domestic\", \"Domestic\", \"Imported\", \"Imported\", \"Imported\", \"Domestic\", \"Imported\", \"Imported\"],\n",
    "    \"Stolen\": [\"Yes\", \"No\", \"Yes\", \"No\", \"Yes\", \"No\", \"Yes\", \"No\", \"No\", \"Yes\"]\n",
    "}\n",
    "\n",
    "df = pd.DataFrame(data)\n",
    "df"
   ]
  },
  {
   "cell_type": "code",
   "execution_count": 28,
   "id": "60fcd22c-ff14-456f-a1be-94bc47469363",
   "metadata": {},
   "outputs": [],
   "source": [
    "X = df.drop(['Stolen'], axis =1)\n",
    "y = df['Stolen']"
   ]
  },
  {
   "cell_type": "code",
   "execution_count": 30,
   "id": "7234e39d-fef5-4fe9-b353-8413d77ca7d4",
   "metadata": {},
   "outputs": [
    {
     "name": "stdout",
     "output_type": "stream",
     "text": [
      "{'No': 0.04800000000000001, 'Yes': 0.096}\n",
      "{'No': 0.04800000000000001, 'Yes': 0.096}\n",
      "{'No': 0.04800000000000001, 'Yes': 0.096}\n",
      "{'No': 0.072, 'Yes': 0.06400000000000002}\n",
      "{'No': 0.048, 'Yes': 0.09600000000000002}\n",
      "{'No': 0.072, 'Yes': 0.024000000000000004}\n",
      "{'No': 0.072, 'Yes': 0.024000000000000004}\n",
      "{'No': 0.108, 'Yes': 0.016000000000000004}\n",
      "{'No': 0.048, 'Yes': 0.036}\n",
      "{'No': 0.03200000000000001, 'Yes': 0.144}\n",
      "Train Accuracy: 80.0\n"
     ]
    }
   ],
   "source": [
    "\n",
    "nb_clf = NaiveBayes()\n",
    "nb_clf.fit(X, y)\n",
    "\n",
    "print(\"Train Accuracy: {}\".format(accuracy_score(y, nb_clf.predict(X))))"
   ]
  },
  {
   "cell_type": "code",
   "execution_count": 32,
   "id": "d472e62f-b3b0-4006-ad57-9d1c95630acf",
   "metadata": {},
   "outputs": [
    {
     "name": "stdout",
     "output_type": "stream",
     "text": [
      "{'No': 0.04800000000000001, 'Yes': 0.096}\n",
      "prediction 1:- [['Red' 'Sports' 'Domestic']] ---> ['Yes']\n",
      "\n",
      "\n",
      "{'No': 0.072, 'Yes': 0.024000000000000004}\n",
      "prediction 2:- [['Yellow' 'SUV' 'Imported']] ---> ['No']\n"
     ]
    }
   ],
   "source": [
    "query1 = np.array([['Red','Sports','Domestic']])\n",
    "print(\"prediction 1:- {} ---> {}\".format(query1, nb_clf.predict(query1)))\n",
    "print(\"\\n\")\n",
    "query2 = np.array([['Yellow','SUV','Imported']])\n",
    "print(\"prediction 2:- {} ---> {}\".format(query2, nb_clf.predict(query2)))"
   ]
  },
  {
   "cell_type": "code",
   "execution_count": 34,
   "id": "32d383eb-9282-49a0-b860-eba884eab6db",
   "metadata": {},
   "outputs": [
    {
     "data": {
      "text/plain": [
       "{'Color': {'Red': 0.5, 'Yellow': 0.5},\n",
       " 'Type': {'SUV': 0.4, 'Sports': 0.6},\n",
       " 'Origin': {'Domestic': 0.5, 'Imported': 0.5}}"
      ]
     },
     "execution_count": 34,
     "metadata": {},
     "output_type": "execute_result"
    }
   ],
   "source": [
    "nb_clf.pred_priors"
   ]
  },
  {
   "cell_type": "code",
   "execution_count": 36,
   "id": "193c0b3e-d9cf-4802-9326-9b1413ff9372",
   "metadata": {},
   "outputs": [
    {
     "ename": "SyntaxError",
     "evalue": "invalid syntax (3277417328.py, line 1)",
     "output_type": "error",
     "traceback": [
      "\u001b[1;36m  Cell \u001b[1;32mIn[36], line 1\u001b[1;36m\u001b[0m\n\u001b[1;33m    git init\u001b[0m\n\u001b[1;37m        ^\u001b[0m\n\u001b[1;31mSyntaxError\u001b[0m\u001b[1;31m:\u001b[0m invalid syntax\n"
     ]
    }
   ],
   "source": [
    "git init\n"
   ]
  }
 ],
 "metadata": {
  "kernelspec": {
   "display_name": "Python 3 (ipykernel)",
   "language": "python",
   "name": "python3"
  },
  "language_info": {
   "codemirror_mode": {
    "name": "ipython",
    "version": 3
   },
   "file_extension": ".py",
   "mimetype": "text/x-python",
   "name": "python",
   "nbconvert_exporter": "python",
   "pygments_lexer": "ipython3",
   "version": "3.11.7"
  }
 },
 "nbformat": 4,
 "nbformat_minor": 5
}
