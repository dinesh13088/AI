{
 "cells": [
  {
   "cell_type": "code",
   "execution_count": 2,
   "id": "d42ab318-36d4-40d2-b505-4cf6c8d74964",
   "metadata": {},
   "outputs": [
    {
     "name": "stderr",
     "output_type": "stream",
     "text": [
      "[nltk_data] Downloading package wordnet to\n",
      "[nltk_data]     C:\\Users\\DELL\\AppData\\Roaming\\nltk_data...\n",
      "[nltk_data] Downloading package omw-1.4 to\n",
      "[nltk_data]     C:\\Users\\DELL\\AppData\\Roaming\\nltk_data...\n"
     ]
    },
    {
     "name": "stdout",
     "output_type": "stream",
     "text": [
      "Synsets of the word 'dog':\n",
      "Synset('dog.n.01')\n",
      "Synset('frump.n.01')\n",
      "Synset('dog.n.03')\n",
      "Synset('cad.n.01')\n",
      "Synset('frank.n.02')\n",
      "Synset('pawl.n.01')\n",
      "Synset('andiron.n.01')\n",
      "Synset('chase.v.01')\n",
      "\n",
      "Definition of 'dog': a member of the genus Canis (probably descended from the common wolf) that has been domesticated by man since prehistoric times; occurs in many breeds\n",
      "Example sentence: ['the dog barked all night']\n",
      "\n",
      "Synonyms of 'dog': ['dog', 'domestic_dog', 'Canis_familiaris']\n",
      "\n",
      "Hypernyms of 'dog' (broader categories): [Synset('canine.n.02'), Synset('domestic_animal.n.01')]\n"
     ]
    }
   ],
   "source": [
    "import nltk\n",
    "from nltk.corpus import wordnet as wn\n",
    "\n",
    "# Download WordNet data\n",
    "nltk.download('wordnet')\n",
    "nltk.download('omw-1.4')  # Optional: For additional languages\n",
    "\n",
    "# Word to analyze\n",
    "word = \"dog\"\n",
    "\n",
    "# Find all the synsets (senses) of the word\n",
    "synsets = wn.synsets(word)\n",
    "print(f\"Synsets of the word '{word}':\")\n",
    "for synset in synsets:\n",
    "    print(synset)\n",
    "\n",
    "synset = synsets[0]\n",
    "print(f\"\\nDefinition of '{word}': {synset.definition()}\")\n",
    "print(f\"Example sentence: {synset.examples()}\")\n",
    "\n",
    "# Find synonyms (lemmas)\n",
    "synonyms = synset.lemma_names()\n",
    "print(f\"\\nSynonyms of '{word}': {synonyms}\")\n",
    "\n",
    "# Find hypernyms (broader category)\n",
    "hypernyms = synset.hypernyms()\n",
    "print(f\"\\nHypernyms of '{word}' (broader categories): {hypernyms}\")\n"
   ]
  }
 ],
 "metadata": {
  "kernelspec": {
   "display_name": "Python 3 (ipykernel)",
   "language": "python",
   "name": "python3"
  },
  "language_info": {
   "codemirror_mode": {
    "name": "ipython",
    "version": 3
   },
   "file_extension": ".py",
   "mimetype": "text/x-python",
   "name": "python",
   "nbconvert_exporter": "python",
   "pygments_lexer": "ipython3",
   "version": "3.11.7"
  }
 },
 "nbformat": 4,
 "nbformat_minor": 5
}
