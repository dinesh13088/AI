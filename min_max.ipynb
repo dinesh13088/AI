{
 "cells": [
  {
   "cell_type": "code",
   "execution_count": 3,
   "id": "28ff0e5b-6dba-4c2f-a390-b32397274ae3",
   "metadata": {},
   "outputs": [
    {
     "name": "stdout",
     "output_type": "stream",
     "text": [
      "The optimal value is : 17\n"
     ]
    }
   ],
   "source": [
    "import math\n",
    "\n",
    "def minimax(curDepth, nodeIndex, maxTurn, scores, targetDepth):\n",
    "    # base case: targetDepth reached\n",
    "    if curDepth == targetDepth: \n",
    "        return scores[nodeIndex]\n",
    "    \n",
    "    if maxTurn:\n",
    "        return max(minimax(curDepth + 1, nodeIndex * 2, \n",
    "                           False, scores, targetDepth), \n",
    "                   minimax(curDepth + 1, nodeIndex * 2 + 1, \n",
    "                           False, scores, targetDepth))\n",
    "    else:\n",
    "        return min(minimax(curDepth + 1, nodeIndex * 2, \n",
    "                           True, scores, targetDepth), \n",
    "                   minimax(curDepth + 1, nodeIndex * 2 + 1, \n",
    "                           True, scores, targetDepth))\n",
    "\n",
    "\n",
    "scores = [7, 15, 20, 5, 11, 25, 17, 10]  \n",
    "\n",
    "treeDepth = math.log(len(scores), 2)\n",
    "\n",
    "print(\"The optimal value is : \", end=\"\")\n",
    "print(minimax(0, 0, True, scores, treeDepth))\n"
   ]
  }
 ],
 "metadata": {
  "kernelspec": {
   "display_name": "Python 3 (ipykernel)",
   "language": "python",
   "name": "python3"
  },
  "language_info": {
   "codemirror_mode": {
    "name": "ipython",
    "version": 3
   },
   "file_extension": ".py",
   "mimetype": "text/x-python",
   "name": "python",
   "nbconvert_exporter": "python",
   "pygments_lexer": "ipython3",
   "version": "3.11.7"
  }
 },
 "nbformat": 4,
 "nbformat_minor": 5
}
