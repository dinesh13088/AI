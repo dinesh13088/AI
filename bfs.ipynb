{
 "cells": [
  {
   "cell_type": "code",
   "execution_count": 6,
   "id": "4c645e93-735c-45f2-8f69-2b16ce08ab35",
   "metadata": {},
   "outputs": [
    {
     "name": "stdout",
     "output_type": "stream",
     "text": [
      "Following is the Breadth-First Search\n",
      "A->B->C->E->F->D->H->IG->"
     ]
    }
   ],
   "source": [
    "graph = {\n",
    "    'A': ['B', 'C'],\n",
    "    'B': ['E', 'F'],\n",
    "    'C': ['D'],\n",
    "    'D': ['G'],\n",
    "    'E': ['H'],\n",
    "    'F': ['I'],\n",
    "    'G': [],\n",
    "    'H': [],\n",
    "    'I': []\n",
    "}\n",
    "visited = []  # List for visited nodes.\n",
    "queue = []  # Initialize a queue\n",
    "\n",
    "def bfs(visited, graph, node):  # function for BFS\n",
    "    visited.append(node)\n",
    "    queue.append(node)\n",
    "    while queue:  # Creating loop to visit each node\n",
    "        m = queue.pop(0)\n",
    "        # print '->' after each node except the last one\n",
    "        print(m, end='->' if m != 'I' else '')\n",
    "        for neighbour in graph[m]:\n",
    "            if neighbour not in visited:\n",
    "                visited.append(neighbour)\n",
    "                queue.append(neighbour)\n",
    "\n",
    "print(\"Following is the Breadth-First Search\")\n",
    "bfs(visited, graph, 'A')\n"
   ]
  }
 ],
 "metadata": {
  "kernelspec": {
   "display_name": "Python 3 (ipykernel)",
   "language": "python",
   "name": "python3"
  },
  "language_info": {
   "codemirror_mode": {
    "name": "ipython",
    "version": 3
   },
   "file_extension": ".py",
   "mimetype": "text/x-python",
   "name": "python",
   "nbconvert_exporter": "python",
   "pygments_lexer": "ipython3",
   "version": "3.11.7"
  }
 },
 "nbformat": 4,
 "nbformat_minor": 5
}
