{
 "cells": [
  {
   "cell_type": "code",
   "execution_count": 1,
   "id": "57728ae9-2f57-4181-8a7f-0246ff297aba",
   "metadata": {},
   "outputs": [
    {
     "name": "stdout",
     "output_type": "stream",
     "text": [
      "(alpha, beta):  7 15\n",
      "Result:  6\n",
      "Times pruned:  2\n"
     ]
    }
   ],
   "source": [
    "tree = [\n",
    "    [[3, 5, 6], [9, 1, -3]],\n",
    "    [[4, -6, 7], [2, 8, -4]]\n",
    "]  # modified tree to search\n",
    "\n",
    "root = 0  # root depth\n",
    "pruned = 0  # times pruned\n",
    "\n",
    "# function to search tree\n",
    "def children(branch, depth, alpha, beta):\n",
    "    global root  # global root depth to compare with current depth\n",
    "    global pruned  # global times pruned to count times pruned\n",
    "    i = 0  # index of child\n",
    "    for child in branch:\n",
    "        if type(child) is list:  # if child is a list, call children function recursively\n",
    "            (nalpha, nbeta) = children(child, depth + 1, alpha, beta)\n",
    "            if depth % 2 == 1:\n",
    "                beta = min(beta, nalpha)\n",
    "            else:\n",
    "                alpha = max(alpha, nbeta)\n",
    "            branch[i] = nalpha if depth % 2 == 0 else nbeta\n",
    "            i += 1\n",
    "        else:\n",
    "            if depth % 2 == 0 and alpha < child:\n",
    "                alpha = child\n",
    "            if depth % 2 == 1 and beta > child:\n",
    "                beta = child\n",
    "            if alpha >= beta:\n",
    "                pruned += 1\n",
    "                break\n",
    "    return (alpha, beta)\n",
    "\n",
    "# function to call search\n",
    "def alphabeta(branch=tree, depth=root, alpha=-15, beta=15):\n",
    "    global pruned\n",
    "    (alpha, beta) = children(branch, depth, alpha, beta)\n",
    "    if depth == root:\n",
    "        best_move = max(branch) if depth % 2 == 0 else min(branch)\n",
    "        print(\"(alpha, beta): \", alpha, beta)\n",
    "        print(\"Result: \", best_move)\n",
    "        print(\"Times pruned: \", pruned)\n",
    "    return (alpha, beta, branch, pruned)\n",
    "\n",
    "if __name__ == \"__main__\":\n",
    "    alphabeta()\n"
   ]
  }
 ],
 "metadata": {
  "kernelspec": {
   "display_name": "Python 3 (ipykernel)",
   "language": "python",
   "name": "python3"
  },
  "language_info": {
   "codemirror_mode": {
    "name": "ipython",
    "version": 3
   },
   "file_extension": ".py",
   "mimetype": "text/x-python",
   "name": "python",
   "nbconvert_exporter": "python",
   "pygments_lexer": "ipython3",
   "version": "3.11.7"
  }
 },
 "nbformat": 4,
 "nbformat_minor": 5
}
