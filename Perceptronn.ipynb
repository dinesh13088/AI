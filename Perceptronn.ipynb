{
 "cells": [
  {
   "cell_type": "code",
   "execution_count": 1,
   "id": "f7eaa060-b903-47b1-8ec4-4ea8ea7ea760",
   "metadata": {},
   "outputs": [],
   "source": [
    "import numpy as np\n",
    "\n",
    "class Perceptron:\n",
    "    def __init__(self, learning_rate=0.1, epochs=100):\n",
    "        self.learning_rate = learning_rate\n",
    "        self.epochs = epochs\n",
    "\n",
    "    def fit(self, X, y):\n",
    "        self.weights = np.random.rand(X.shape[1])\n",
    "        self.bias = np.random.rand(1)\n",
    "\n",
    "        for _ in range(self.epochs):\n",
    "            for inputs, target in zip(X, y):\n",
    "                prediction = self.predict(inputs)\n",
    "                error = target - prediction\n",
    "                self.weights += self.learning_rate * error * inputs\n",
    "                self.bias += self.learning_rate * error\n",
    "\n",
    "    \n",
    "    def predict(self, inputs):\n",
    "        weighted_sum = np.dot(inputs, self.weights) + self.bias\n",
    "        result = self._activation(weighted_sum)\n",
    "\n",
    "        return result\n",
    "    \n",
    "    def _activation(self, z):\n",
    "        return 1 if z >= 0 else 0\n",
    "    \n",
    "    def print_table(self,inputs):\n",
    "        prediction = self.predict(inputs)\n",
    "        if prediction == 1:\n",
    "            output = \"True\"\n",
    "        else:\n",
    "            output = \"False\"\n",
    "            \n",
    "        return f\"{inputs} : {output}\""
   ]
  },
  {
   "cell_type": "code",
   "execution_count": 3,
   "id": "83804f66-f253-45a4-b301-f9b7bcf8e7a2",
   "metadata": {},
   "outputs": [],
   "source": [
    "model = Perceptron()\n",
    "X = np.array([[0,0],[0,1],[1,0],[1,1]])\n",
    "y = [0,0,0,1]\n",
    "model.fit(X,y)"
   ]
  },
  {
   "cell_type": "code",
   "execution_count": 5,
   "id": "e5222811-6c49-4279-af7d-e68cc862f2c5",
   "metadata": {},
   "outputs": [
    {
     "name": "stdout",
     "output_type": "stream",
     "text": [
      "Truth table of AND Gate\n",
      "\n",
      "[0, 0] : False\n",
      "[0, 1] : False\n",
      "[1, 0] : False\n",
      "[1, 1] : True\n"
     ]
    }
   ],
   "source": [
    "print(\"Truth table of AND Gate\\n\")\n",
    "print(model.print_table([0,0]))\n",
    "print(model.print_table([0,1]))\n",
    "print(model.print_table([1,0]))\n",
    "print(model.print_table([1,1]))"
   ]
  },
  {
   "cell_type": "code",
   "execution_count": 7,
   "id": "8dbed9ed-beb8-422b-8df8-7a48e41e2e6f",
   "metadata": {},
   "outputs": [
    {
     "name": "stdout",
     "output_type": "stream",
     "text": [
      "Weights:  [0.31539146 0.41579815]\n",
      "Bias:  [-0.54429954]\n"
     ]
    }
   ],
   "source": [
    "print(\"Weights: \",model.weights)\n",
    "print(\"Bias: \",model.bias)"
   ]
  }
 ],
 "metadata": {
  "kernelspec": {
   "display_name": "Python 3 (ipykernel)",
   "language": "python",
   "name": "python3"
  },
  "language_info": {
   "codemirror_mode": {
    "name": "ipython",
    "version": 3
   },
   "file_extension": ".py",
   "mimetype": "text/x-python",
   "name": "python",
   "nbconvert_exporter": "python",
   "pygments_lexer": "ipython3",
   "version": "3.11.7"
  }
 },
 "nbformat": 4,
 "nbformat_minor": 5
}
