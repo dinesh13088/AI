{
 "cells": [
  {
   "cell_type": "code",
   "execution_count": 3,
   "id": "b7b73a8b-74a1-4dcd-9599-c62b25ff133d",
   "metadata": {},
   "outputs": [
    {
     "name": "stdout",
     "output_type": "stream",
     "text": [
      "Following is the Depth-First Search\n",
      "A->B->E->F->IC->D->G->H->"
     ]
    }
   ],
   "source": [
    "graph = {\n",
    "    'A': ['B', 'C'],\n",
    "    'B': ['E', 'F'],\n",
    "    'C': ['D'],\n",
    "    'D': ['G', 'H'],\n",
    "    'E': [],\n",
    "    'F': ['I'],\n",
    "    'G': [],\n",
    "    'H': [],\n",
    "    'I': []\n",
    "}\n",
    "\n",
    "visited = set()  # Set to keep track of visited nodes of the graph.\n",
    "\n",
    "def dfs(visited, graph, node):  # function for dfs\n",
    "    if node not in visited:\n",
    "        # print '->' after each node except the last one\n",
    "        print(node, end='->' if node != 'I' else '')\n",
    "        visited.add(node)\n",
    "        for neighbour in graph[node]:\n",
    "            dfs(visited, graph, neighbour)\n",
    "\n",
    "print(\"Following is the Depth-First Search\")\n",
    "dfs(visited, graph, 'A')\n"
   ]
  }
 ],
 "metadata": {
  "kernelspec": {
   "display_name": "Python 3 (ipykernel)",
   "language": "python",
   "name": "python3"
  },
  "language_info": {
   "codemirror_mode": {
    "name": "ipython",
    "version": 3
   },
   "file_extension": ".py",
   "mimetype": "text/x-python",
   "name": "python",
   "nbconvert_exporter": "python",
   "pygments_lexer": "ipython3",
   "version": "3.11.7"
  }
 },
 "nbformat": 4,
 "nbformat_minor": 5
}
