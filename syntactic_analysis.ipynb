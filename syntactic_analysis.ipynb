{
 "cells": [
  {
   "cell_type": "code",
   "execution_count": 4,
   "id": "330c40ae-48b2-4702-b8fe-5d2fd3193b72",
   "metadata": {},
   "outputs": [
    {
     "name": "stdout",
     "output_type": "stream",
     "text": [
      "(S\n",
      "  (NP (Det the) (N dog))\n",
      "  (VP\n",
      "    (VP (V saw) (NP (Det a) (N cat)))\n",
      "    (PP (P in) (NP (Det the) (N park)))))\n",
      "(S\n",
      "  (NP (Det the) (N dog))\n",
      "  (VP\n",
      "    (V saw)\n",
      "    (NP (Det a) (N cat) (PP (P in) (NP (Det the) (N park))))))\n"
     ]
    }
   ],
   "source": [
    "import nltk\n",
    "from nltk import CFG\n",
    "\n",
    "\n",
    "# Define a simple grammar for sentence parsing\n",
    "grammar = CFG.fromstring(\"\"\"\n",
    "  S -> NP VP\n",
    "  NP -> Det N | Det N PP\n",
    "  VP -> V NP | VP PP\n",
    "  PP -> P NP\n",
    "  Det -> 'the' | 'a'\n",
    "  N -> 'cat' | 'dog' | 'park'\n",
    "  V -> 'saw' | 'chased'\n",
    "  P -> 'in' | 'with'\n",
    "\"\"\")\n",
    "\n",
    "\n",
    "# Define the parser with the given grammar\n",
    "parser = nltk.ChartParser(grammar)\n",
    "\n",
    "\n",
    "# Example sentence to parse\n",
    "sentence = \"the dog saw a cat in the park\".split()\n",
    "\n",
    "\n",
    "# Perform parsing\n",
    "for tree in parser.parse(sentence):\n",
    "    print(tree)\n",
    "    tree.draw() \n",
    " # This will display the parse tree visually (works locally)\n"
   ]
  }
 ],
 "metadata": {
  "kernelspec": {
   "display_name": "Python 3 (ipykernel)",
   "language": "python",
   "name": "python3"
  },
  "language_info": {
   "codemirror_mode": {
    "name": "ipython",
    "version": 3
   },
   "file_extension": ".py",
   "mimetype": "text/x-python",
   "name": "python",
   "nbconvert_exporter": "python",
   "pygments_lexer": "ipython3",
   "version": "3.11.7"
  }
 },
 "nbformat": 4,
 "nbformat_minor": 5
}
