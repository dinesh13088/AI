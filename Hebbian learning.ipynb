{
 "cells": [
  {
   "cell_type": "code",
   "execution_count": 9,
   "id": "fb468000-275e-4bdd-ad7c-c7c0cf979a76",
   "metadata": {},
   "outputs": [],
   "source": [
    "import pandas as pd\n",
    "import numpy as np\n",
    "class HebbianNeuron(object):\n",
    "    def __init__(self, shape, learning_rate =1, epoch=1):\n",
    "        self.shape = shape\n",
    "        self.learning_rate = learning_rate\n",
    "        self.epochs = epoch\n",
    "        self.weights = np.zeros(self.shape)\n",
    "        self.bias = np.zeros(1)\n",
    "\n",
    "    def train(self, inputs, targets):\n",
    "        for epoch in range(self.epochs):\n",
    "            for i in range(len(inputs)):\n",
    "                input_pattern = inputs[i]\n",
    "                target = targets[i]\n",
    "    #           output = np.dot(self.weights, input_pattern)\n",
    "                self.weights += self.learning_rate * target * input_pattern\n",
    "                self.bias += self.learning_rate * target\n",
    "                print(\"Weight updated: \" + str(self.weights[0]))\n",
    "                print(\"Weight updated: \" + str(self.weights[1]))\n",
    "                print(\"Bias updated: \" + str(self.bias))\n",
    "                print(\"----------------------------------------\")\n",
    "        return self.weights, self.bias\n",
    "\n",
    "    def predict(self, inputs, ret = False):\n",
    "        self.out_raw =[]\n",
    "        self.out_val =[]\n",
    "        for input_pattern in inputs:\n",
    "            output = input_pattern.dot(self.weights)+self.bias\n",
    "            self.out_raw.append(output)\n",
    "            self.out_val.append(1 if output>0 else -1)\n",
    "            if not ret:\n",
    "                print(f\"Input: {input_pattern}, Output:{output > 0}\")\n",
    "\n",
    "    def TruthTable(self, input, input_labels, output_labels):\n",
    "        table = pd.DataFrame(input, columns = input_labels)\n",
    "\n",
    "        self.predict(input,True)\n",
    "\n",
    "\n",
    "        table[output_labels] = pd.Series(self.out_val)\n",
    "        return table"
   ]
  },
  {
   "cell_type": "code",
   "execution_count": 11,
   "id": "e53cd121-91c2-41bf-9a9b-007dd9999da1",
   "metadata": {},
   "outputs": [],
   "source": [
    "inputs = np.array([[-1, -1], [-1, 1], [1, -1], [1, 1]])\n",
    "targets = np.array([-1,1,1,1])\n",
    "OR = HebbianNeuron(inputs.shape[1])"
   ]
  },
  {
   "cell_type": "code",
   "execution_count": 13,
   "id": "fe152e80-a4b7-4807-8550-c98990262538",
   "metadata": {},
   "outputs": [
    {
     "name": "stdout",
     "output_type": "stream",
     "text": [
      "Weight updated: 1.0\n",
      "Weight updated: 1.0\n",
      "Bias updated: [-1.]\n",
      "----------------------------------------\n",
      "Weight updated: 0.0\n",
      "Weight updated: 2.0\n",
      "Bias updated: [0.]\n",
      "----------------------------------------\n",
      "Weight updated: 1.0\n",
      "Weight updated: 1.0\n",
      "Bias updated: [1.]\n",
      "----------------------------------------\n",
      "Weight updated: 2.0\n",
      "Weight updated: 2.0\n",
      "Bias updated: [2.]\n",
      "----------------------------------------\n"
     ]
    },
    {
     "data": {
      "text/plain": [
       "(array([2., 2.]), array([2.]))"
      ]
     },
     "execution_count": 13,
     "metadata": {},
     "output_type": "execute_result"
    }
   ],
   "source": [
    "OR.train(inputs, targets)"
   ]
  },
  {
   "cell_type": "code",
   "execution_count": 15,
   "id": "71c58b00-7273-4437-a3aa-d734d6074dfa",
   "metadata": {},
   "outputs": [
    {
     "name": "stdout",
     "output_type": "stream",
     "text": [
      "Input: [-1 -1], Output:[False]\n",
      "Input: [-1  1], Output:[ True]\n",
      "Input: [ 1 -1], Output:[ True]\n",
      "Input: [1 1], Output:[ True]\n"
     ]
    }
   ],
   "source": [
    "OR.predict(inputs)"
   ]
  }
 ],
 "metadata": {
  "kernelspec": {
   "display_name": "Python 3 (ipykernel)",
   "language": "python",
   "name": "python3"
  },
  "language_info": {
   "codemirror_mode": {
    "name": "ipython",
    "version": 3
   },
   "file_extension": ".py",
   "mimetype": "text/x-python",
   "name": "python",
   "nbconvert_exporter": "python",
   "pygments_lexer": "ipython3",
   "version": "3.11.7"
  }
 },
 "nbformat": 4,
 "nbformat_minor": 5
}
